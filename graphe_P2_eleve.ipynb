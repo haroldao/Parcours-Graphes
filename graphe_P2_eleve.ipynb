{
  "nbformat": 4,
  "nbformat_minor": 0,
  "metadata": {
    "kernelspec": {
      "display_name": "Python 3",
      "language": "python",
      "name": "python3"
    },
    "language_info": {
      "codemirror_mode": {
        "name": "ipython",
        "version": 3
      },
      "file_extension": ".py",
      "mimetype": "text/x-python",
      "name": "python",
      "nbconvert_exporter": "python",
      "pygments_lexer": "ipython3",
      "version": "3.6.4"
    },
    "colab": {
      "name": "graphe_P2_eleve.ipynb",
      "provenance": [],
      "collapsed_sections": [
        "BSB7a2OcO6FG",
        "t84Sb22dO6FH",
        "tmBonJjxO6FK",
        "vhhZENwGO6FK"
      ],
      "include_colab_link": true
    }
  },
  "cells": [
    {
      "cell_type": "markdown",
      "metadata": {
        "id": "view-in-github",
        "colab_type": "text"
      },
      "source": [
        "<a href=\"https://colab.research.google.com/github/haroldao/Parcours-Graphes/blob/master/graphe_P2_eleve.ipynb\" target=\"_parent\"><img src=\"https://colab.research.google.com/assets/colab-badge.svg\" alt=\"Open In Colab\"/></a>"
      ]
    },
    {
      "cell_type": "markdown",
      "metadata": {
        "id": "1TuSAm8kO6E7"
      },
      "source": [
        "# A.1 - A.2 Classe et Graphe exemple\n",
        "![](parcours_1.svg)"
      ]
    },
    {
      "cell_type": "code",
      "metadata": {
        "id": "tBgKaOT5O6E9"
      },
      "source": [
        "from collections import deque\n",
        "\n",
        "class Graphe:\n",
        "    def __init__(self):\n",
        "        self.Dico = {}\n",
        "    # les méthodes produisent toutes un dictionnaire des successeurs mais\n",
        "    #celle générant les arcs pondérés ne peut pas être utilisée avec les 2\n",
        "    # précédentes (pas la même structure du dico)\n",
        "    #méthode pour créer une arete origine <-> destination\n",
        "    def addArete(self, u, v):\n",
        "        if v not in self.Dico:\n",
        "            self.Dico[v] = []\n",
        "        if u not in self.Dico:\n",
        "            self.Dico[u] = []\n",
        "        self.Dico[u].append(v)\n",
        "        self.Dico[v].append(u)\n",
        "    #méthode pour créer une arc origine -> destination    \n",
        "    def addArc(self, u, v):\n",
        "        if v not in self.Dico:\n",
        "            self.Dico[v] = []\n",
        "        if u not in self.Dico:\n",
        "            self.Dico[u] = []\n",
        "        self.Dico[u].append(v)\n",
        "    #méthode pour créer une arc pondéré origine -p-> destination\n",
        "    def addArcPond(self, u, v, p):\n",
        "        if u not in self.Dico :\n",
        "            self.Dico[u] = {v : p}\n",
        "        else :\n",
        "            self.Dico[u][v] = p\n",
        "        #if v not in self.Dico :\n",
        "        #    self.Dico[v] = {u : p}\n",
        "        #else :\n",
        "        #    self.Dico[v][u] = p\n",
        "\n",
        "# Affichage du graphe\n",
        "    def affich(self) :\n",
        "        for key,value in self.Dico.items():\n",
        "            print(key,\":\",value)\n",
        "\n",
        "# Classes à construire à insérer ici      \n",
        "    def parcoursLargeur(self,start):\n",
        "        sortie = []\n",
        "        file = deque()\n",
        "        file.append(start)\n",
        "        while file:\n",
        "            S = file.popleft()\n",
        "            if S not in sortie:\n",
        "                sortie.append(S)\n",
        "                nonvisited = [n for n in self.Dico[S] if n not in sortie]\n",
        "                file.extend(nonvisited)\n",
        "        return sortie\n",
        "    def parcoursProfondeur(self,start):\n",
        "        pass\n",
        "    def chemins(self,start,end) :\n",
        "        pass\n",
        "    def cycles(self):\n",
        "        pass\n",
        "    def testConnexite(self) :\n",
        "        pass"
      ],
      "execution_count": 44,
      "outputs": []
    },
    {
      "cell_type": "code",
      "metadata": {
        "colab": {
          "base_uri": "https://localhost:8080/"
        },
        "id": "G01TuQWqO6E-",
        "outputId": "bee796ff-8b61-4a2d-8096-6957b9365913"
      },
      "source": [
        "\"\"\" Définition du graphe \"\"\"\n",
        "\n",
        "G = Graphe()\n",
        "\n",
        "G.addArete('A', 'B')\n",
        "G.addArete('A', 'D')\n",
        "G.addArete('A', 'E')\n",
        "G.addArete('C', 'B')\n",
        "G.addArete('C', 'D')\n",
        "G.addArete('D', 'E')\n",
        "G.addArete('E', 'F')\n",
        "G.addArete('E', 'G')\n",
        "G.addArete('F', 'G')\n",
        "G.addArete('G', 'H')\n",
        "\n",
        "G.affich()\n",
        "\n",
        "print(\"\\nParcours Largeur (dans la classe)\")\n",
        "G.parcoursLargeur(\"A\")"
      ],
      "execution_count": 50,
      "outputs": [
        {
          "output_type": "stream",
          "text": [
            "B : ['A', 'C']\n",
            "A : ['B', 'D', 'E']\n",
            "D : ['A', 'C', 'E']\n",
            "E : ['A', 'D', 'F', 'G']\n",
            "C : ['B', 'D']\n",
            "F : ['E', 'G']\n",
            "G : ['E', 'F', 'H']\n",
            "H : ['G']\n",
            "\n",
            "Parcours Largeur (dans la classe)\n"
          ],
          "name": "stdout"
        },
        {
          "output_type": "execute_result",
          "data": {
            "text/plain": [
              "['A', 'B', 'D', 'E', 'C', 'F', 'G', 'H']"
            ]
          },
          "metadata": {
            "tags": []
          },
          "execution_count": 50
        }
      ]
    },
    {
      "cell_type": "code",
      "metadata": {
        "colab": {
          "base_uri": "https://localhost:8080/"
        },
        "id": "L6lTV3asO6E_",
        "outputId": "6e3ff501-b66f-48e7-ba56-93db8cc4476c"
      },
      "source": [
        "def parcoursLargeur(graphe,start):\n",
        "        sortie = []\n",
        "        file = deque()\n",
        "        file.append(start)\n",
        "\n",
        "        while file:\n",
        "            S = file.popleft()\n",
        "            if S not in sortie:\n",
        "                sortie.append(S)\n",
        "                nonvisited = [n for n in graphe[S] if n not in sortie]\n",
        "                file.extend(nonvisited)\n",
        "        return sortie\n",
        "\n",
        "print(G.Dico)\n",
        "parcoursLargeur(G.Dico,'A')\n"
      ],
      "execution_count": 34,
      "outputs": [
        {
          "output_type": "stream",
          "text": [
            "{'B': ['A', 'C'], 'A': ['B', 'D', 'E'], 'D': ['A', 'C', 'E'], 'E': ['A', 'D', 'F', 'G'], 'C': ['B', 'D'], 'F': ['E', 'G'], 'G': ['E', 'F', 'H'], 'H': ['G']}\n"
          ],
          "name": "stdout"
        },
        {
          "output_type": "execute_result",
          "data": {
            "text/plain": [
              "['A', 'B', 'D', 'E', 'C', 'F', 'G', 'H']"
            ]
          },
          "metadata": {
            "tags": []
          },
          "execution_count": 34
        }
      ]
    },
    {
      "cell_type": "code",
      "metadata": {
        "colab": {
          "base_uri": "https://localhost:8080/"
        },
        "id": "HwdaP8MpO6FA",
        "outputId": "3084cc0f-7062-44d2-c2d8-975cb8254b7d"
      },
      "source": [
        "def parcoursProfondeur(graphe,start):\n",
        "    sortie = []\n",
        "    pile = []\n",
        "    pile.append(start)\n",
        "\n",
        "    while pile:\n",
        "      S = pile.pop()\n",
        "      if S not in sortie:\n",
        "        sortie.append(S)\n",
        "        nonvisited = [n for n in graphe[S] if n not in sortie]\n",
        "        pile.extend(nonvisited)\n",
        "    return sortie\n",
        "\n",
        "print(G.Dico)\n",
        "parcoursProfondeur(G.Dico, \"A\")"
      ],
      "execution_count": 35,
      "outputs": [
        {
          "output_type": "stream",
          "text": [
            "{'B': ['A', 'C'], 'A': ['B', 'D', 'E'], 'D': ['A', 'C', 'E'], 'E': ['A', 'D', 'F', 'G'], 'C': ['B', 'D'], 'F': ['E', 'G'], 'G': ['E', 'F', 'H'], 'H': ['G']}\n"
          ],
          "name": "stdout"
        },
        {
          "output_type": "execute_result",
          "data": {
            "text/plain": [
              "['A', 'E', 'G', 'H', 'F', 'D', 'C', 'B']"
            ]
          },
          "metadata": {
            "tags": []
          },
          "execution_count": 35
        }
      ]
    },
    {
      "cell_type": "code",
      "metadata": {
        "colab": {
          "base_uri": "https://localhost:8080/"
        },
        "id": "miuZVobBO6FA",
        "outputId": "0bcae74a-c567-40b4-bd8b-23ba5240c79e"
      },
      "source": [
        "parcoursLargeur(G.Dico,'A')"
      ],
      "execution_count": 36,
      "outputs": [
        {
          "output_type": "execute_result",
          "data": {
            "text/plain": [
              "['A', 'B', 'D', 'E', 'C', 'F', 'G', 'H']"
            ]
          },
          "metadata": {
            "tags": []
          },
          "execution_count": 36
        }
      ]
    },
    {
      "cell_type": "code",
      "metadata": {
        "id": "gPSjA2okO6FB"
      },
      "source": [
        ""
      ],
      "execution_count": 50,
      "outputs": []
    },
    {
      "cell_type": "code",
      "metadata": {
        "id": "6xwz3Ca4O6FB"
      },
      "source": [
        ""
      ],
      "execution_count": null,
      "outputs": []
    },
    {
      "cell_type": "markdown",
      "metadata": {
        "id": "8wete8yGO6FC"
      },
      "source": [
        "# A.4 Graphe Orienté\n",
        "![](parcours_2.svg)"
      ]
    },
    {
      "cell_type": "code",
      "metadata": {
        "id": "PTesVDf1O6FC"
      },
      "source": [
        "G2=Graphe()\n",
        "G2.addArc('A','B')\n",
        "G2.addArc('B','C')\n",
        "G2.addArc('C','D')\n",
        "G2.addArc('D','A')\n",
        "G2.addArc('D','E')\n",
        "G2.addArc('E','A')\n",
        "# A COMPLETER"
      ],
      "execution_count": null,
      "outputs": []
    },
    {
      "cell_type": "code",
      "metadata": {
        "id": "IycTFHktO6FC",
        "outputId": "0f97b13d-8855-4914-e054-d80657df8413"
      },
      "source": [
        "G2.affich()"
      ],
      "execution_count": null,
      "outputs": [
        {
          "output_type": "stream",
          "text": [
            "B : ['C']\n",
            "A : ['B']\n",
            "C : ['D']\n",
            "D : ['A', 'E']\n",
            "E : ['A']\n"
          ],
          "name": "stdout"
        }
      ]
    },
    {
      "cell_type": "code",
      "metadata": {
        "id": "NinI69WtO6FD"
      },
      "source": [
        ""
      ],
      "execution_count": null,
      "outputs": []
    },
    {
      "cell_type": "code",
      "metadata": {
        "id": "2dl7n3pkO6FD"
      },
      "source": [
        ""
      ],
      "execution_count": null,
      "outputs": []
    },
    {
      "cell_type": "code",
      "metadata": {
        "id": "IHZpKv-JO6FE"
      },
      "source": [
        ""
      ],
      "execution_count": null,
      "outputs": []
    },
    {
      "cell_type": "code",
      "metadata": {
        "id": "hBtlbJFrO6FE"
      },
      "source": [
        ""
      ],
      "execution_count": null,
      "outputs": []
    },
    {
      "cell_type": "code",
      "metadata": {
        "id": "mjAplq2QO6FF"
      },
      "source": [
        ""
      ],
      "execution_count": null,
      "outputs": []
    },
    {
      "cell_type": "code",
      "metadata": {
        "id": "55dlxYP3O6FF"
      },
      "source": [
        ""
      ],
      "execution_count": null,
      "outputs": []
    },
    {
      "cell_type": "code",
      "metadata": {
        "id": "rZ_MeC2vO6FG"
      },
      "source": [
        ""
      ],
      "execution_count": null,
      "outputs": []
    },
    {
      "cell_type": "code",
      "metadata": {
        "id": "on53qdFlO6FG"
      },
      "source": [
        ""
      ],
      "execution_count": null,
      "outputs": []
    },
    {
      "cell_type": "code",
      "metadata": {
        "id": "skNGHs_KO6FG"
      },
      "source": [
        ""
      ],
      "execution_count": null,
      "outputs": []
    },
    {
      "cell_type": "markdown",
      "metadata": {
        "id": "BSB7a2OcO6FG"
      },
      "source": [
        "# B. Recherche de chemin d'un sommet à un autre"
      ]
    },
    {
      "cell_type": "code",
      "metadata": {
        "id": "SrWRq9hBO6FH"
      },
      "source": [
        "# Fonction qui renvoie sous forme de liste l'ensemble des chemins entre \"start\" et \"end\"\n",
        "# Le graphe en liste de succeseurs : Dictionnaire de listes produit par la classe Graphe\n",
        "def chemins(graphe,start,end):\n",
        "        pass"
      ],
      "execution_count": null,
      "outputs": []
    },
    {
      "cell_type": "code",
      "metadata": {
        "id": "FarVIbg4O6FH"
      },
      "source": [
        "chemins(G.Dico,'A','H')"
      ],
      "execution_count": null,
      "outputs": []
    },
    {
      "cell_type": "markdown",
      "metadata": {
        "id": "t84Sb22dO6FH"
      },
      "source": [
        "# C. Plus cours chemin dans un graphe pondéré\n",
        "## Algorithme de Dijkstra"
      ]
    },
    {
      "cell_type": "code",
      "metadata": {
        "id": "uQxIgRAQO6FH",
        "outputId": "6db62c59-f4f2-4332-c1e3-a763821b995d"
      },
      "source": [
        "graf_test = Graphe()\n",
        "graf_test.addArcPond('Depart', 'B', 5)\n",
        "graf_test.addArcPond('Depart', 'A', 3)\n",
        "graf_test.addArcPond('A', 'C', 2)\n",
        "graf_test.addArcPond('B', 'C', 0)\n",
        "graf_test.addArcPond('C', 'Arrivee', 2)\n",
        "graf_test.addArcPond('Arrivee', 'Arrivee', 0)\n",
        "graf_test.affich()\n",
        "\n"
      ],
      "execution_count": null,
      "outputs": [
        {
          "output_type": "stream",
          "text": [
            "Depart : {'B': 5, 'A': 3}\n",
            "A : {'C': 2}\n",
            "B : {'C': 0}\n",
            "C : {'Arrivee': 2}\n",
            "Arrivee : {'Arrivee': 0}\n"
          ],
          "name": "stdout"
        }
      ]
    },
    {
      "cell_type": "code",
      "metadata": {
        "id": "Ec-b80uBO6FI"
      },
      "source": [
        "from math import inf\n",
        "def dijkstra (graphe, depart, arrivee) :\n",
        "    #le graphe est passé sous forme d'une liste des successeurs pondérés (Dico) retourne un tuple (distance mini , [chemin mini])\n",
        "    #initialisation\n",
        "    # création Dico des marques et init des marques à +infini (1)\n",
        "    marque = {}\n",
        "    for sommet in graphe:\n",
        "        marque[sommet] = inf\n",
        "    #init de la marques de départ à 0\n",
        "    marque[depart] = 0 \t\t# (2)\n",
        "    #initialisation d'une liste de sommets non sélectionnés (3)\n",
        "    non_selectionnes = [sommet for sommet in graphe]\n",
        "    pere = {} # (4)\n",
        "    pere[depart] = None\n",
        "    # boucle principale:\n",
        "    while non_selectionnes: # (5)\n",
        "        # sélection:\n",
        "        marquePlusPetite = inf\n",
        "        for s in non_selectionnes:  # (5a)\n",
        "            if marque[s] < marquePlusPetite:\n",
        "                marquePlusPetite = marque[s]\n",
        "                sommetPlusPetit = s\n",
        "        if sommetPlusPetit == arrivee:\n",
        "            break\n",
        "        non_selectionnes.remove(sommetPlusPetit)\n",
        "        # mise à jour des voisins du sommet sélectionné:\n",
        "        VoisinsAVisiter = [sommet for sommet in graphe[sommetPlusPetit] if sommet in non_selectionnes]\n",
        "        for sommet in VoisinsAVisiter:  # (5b)\n",
        "            p = marque[sommetPlusPetit] + graphe[sommetPlusPetit][sommet] # (5b i )\n",
        "            if p < marque[sommet]: # (5b ii)\n",
        "                marque[sommet] = p\n",
        "                pere[sommet] = sommetPlusPetit\n",
        "    # mise en forme du couple de sortie \n",
        "    chemin = [arrivee]\n",
        "    sommet = arrivee\n",
        "    while pere[sommet] != None:\n",
        "        chemin = [pere[sommet]] + chemin\n",
        "        sommet = pere[sommet]\n",
        "    return(marque[arrivee],chemin)"
      ],
      "execution_count": null,
      "outputs": []
    },
    {
      "cell_type": "code",
      "metadata": {
        "id": "FsPyZdt-O6FI",
        "outputId": "8e75c8bb-e975-4f3d-b745-7b2e2e4a5d19"
      },
      "source": [
        "dijkstra(graf_test.Dico,'Depart','Arrivee')"
      ],
      "execution_count": null,
      "outputs": [
        {
          "output_type": "execute_result",
          "data": {
            "text/plain": [
              "(7, ['Depart', 'A', 'C', 'Arrivee'])"
            ]
          },
          "metadata": {
            "tags": []
          },
          "execution_count": 28
        }
      ]
    },
    {
      "cell_type": "code",
      "metadata": {
        "id": "orQPHdRiO6FJ"
      },
      "source": [
        ""
      ],
      "execution_count": null,
      "outputs": []
    },
    {
      "cell_type": "code",
      "metadata": {
        "id": "e1F-txcCO6FJ"
      },
      "source": [
        ""
      ],
      "execution_count": null,
      "outputs": []
    },
    {
      "cell_type": "code",
      "metadata": {
        "id": "r0yLO0THO6FJ"
      },
      "source": [
        ""
      ],
      "execution_count": null,
      "outputs": []
    },
    {
      "cell_type": "code",
      "metadata": {
        "id": "v95T5PdnO6FJ"
      },
      "source": [
        "# Matrice correspondant au réseau d'irrigation\n",
        "irrigation =[[0, 2, 5, 3, 0, 0, 0, 0, 0, 0, 0],\n",
        " [0, 0, 6, 0, 0, 2, 0, 0, 0, 0, 0],\n",
        " [0, 0, 0, 0, 3, 2, 5, 0, 0, 0, 0],\n",
        " [0, 0, 0, 0, 0, 4, 5, 0, 0, 0, 0],\n",
        " [0, 0, 0, 0, 0, 0, 0, 1, 2, 0, 0],\n",
        " [0, 0, 0, 0, 0, 0, 0, 3, 4, 5, 0],\n",
        " [0, 0, 0, 0, 0, 0, 0, 0, 0, 5, 0],\n",
        " [0, 0, 0, 0, 0, 0, 0, 0, 0, 0, 2],\n",
        " [0, 0, 0, 0, 0, 0, 0, 0, 0, 0, 3],\n",
        " [0, 0, 0, 0, 0, 0, 0, 0, 0, 0, 3],\n",
        " [0, 0, 0, 0, 0, 0, 0, 0, 0, 0, 0]]"
      ],
      "execution_count": null,
      "outputs": []
    },
    {
      "cell_type": "code",
      "metadata": {
        "id": "Dccuk6Q7O6FJ"
      },
      "source": [
        ""
      ],
      "execution_count": null,
      "outputs": []
    },
    {
      "cell_type": "markdown",
      "metadata": {
        "id": "tmBonJjxO6FK"
      },
      "source": [
        "# D. Recherche de cycles dans un graphe"
      ]
    },
    {
      "cell_type": "code",
      "metadata": {
        "id": "RerIe7axO6FK"
      },
      "source": [
        "def cycles(graphe):\n",
        "        liste_cycles = []\n",
        "        for key in graphe :\n",
        "            start = key\n",
        "            pile = deque()\n",
        "            pile.append((start, []))\n",
        "        # à compléter \n",
        "        \n",
        "        \n",
        "        pass"
      ],
      "execution_count": null,
      "outputs": []
    },
    {
      "cell_type": "code",
      "metadata": {
        "id": "LenbgnJQO6FK"
      },
      "source": [
        ""
      ],
      "execution_count": null,
      "outputs": []
    },
    {
      "cell_type": "markdown",
      "metadata": {
        "id": "vhhZENwGO6FK"
      },
      "source": [
        "# E. Vérification de connexité"
      ]
    },
    {
      "cell_type": "code",
      "metadata": {
        "id": "Sg8YdykGO6FK"
      },
      "source": [
        ""
      ],
      "execution_count": null,
      "outputs": []
    },
    {
      "cell_type": "code",
      "metadata": {
        "id": "nZ6leceBO6FK"
      },
      "source": [
        "def testConnexite(graphe) :\n",
        "    pass"
      ],
      "execution_count": null,
      "outputs": []
    },
    {
      "cell_type": "code",
      "metadata": {
        "id": "qvvn2HljO6FL"
      },
      "source": [
        "GNC = {'4': ['0'],\n",
        " '0': ['4'],\n",
        " '8': ['5'],\n",
        " '5': ['8', '9', '10'],\n",
        " '9': ['5'],\n",
        " '10': ['5'],\n",
        " '12': ['12', '12'],\n",
        " '2': ['1', '3', '7', '6', '11'],\n",
        " '1': ['2', '11'],\n",
        " '11': ['1', '2', '3', '6', '7'],\n",
        " '3': ['2', '6', '7', '11'],\n",
        " '7': ['2', '3', '6', '11'],\n",
        " '6': ['2', '3', '7', '11']}\n",
        "\n",
        "GC = {'1': ['2', '3', '4', '6', '8', '9', '10'],\n",
        " '2': ['1', '3', '4', '5', '6', '7', '8', '9', '10'],\n",
        " '3': ['1', '2', '5', '6', '7', '8'],\n",
        " '4': ['1', '2', '5', '7', '8', '10'],\n",
        " '5': ['2', '3', '4', '7', '8', '9', '10'],\n",
        " '6': ['1', '2', '3', '7', '8', '9', '10'],\n",
        " '7': ['2', '3', '4', '5', '6', '8', '9', '10'],\n",
        " '8': ['1', '2', '3', '4', '5', '6', '7', '9'],\n",
        " '9': ['1', '2', '5', '6', '7', '8'],\n",
        " '10': ['1', '2', '4', '5', '6', '7']}"
      ],
      "execution_count": null,
      "outputs": []
    },
    {
      "cell_type": "code",
      "metadata": {
        "id": "MfzEf9JsO6FL"
      },
      "source": [
        ""
      ],
      "execution_count": null,
      "outputs": []
    }
  ]
}